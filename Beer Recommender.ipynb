{
 "cells": [
  {
   "cell_type": "code",
   "execution_count": 6,
   "metadata": {
    "collapsed": true
   },
   "outputs": [],
   "source": [
    "# Import the Python packages that will be needed.  \n",
    "import pandas as pd\n",
    "from sklearn.metrics.pairwise import cosine_similarity\n",
    "import pprint as pp\n",
    "import os\n",
    "import numpy as np"
   ]
  },
  {
   "cell_type": "code",
   "execution_count": 2,
   "metadata": {
    "collapsed": true
   },
   "outputs": [],
   "source": [
    "# Read the beer reviews file\n",
    "filename = os.path.join(\"beer_reviews/beer_reviews.csv\")\n",
    "df = pd.read_csv(filename)"
   ]
  },
  {
   "cell_type": "code",
   "execution_count": 3,
   "metadata": {
    "collapsed": false
   },
   "outputs": [
    {
     "name": "stdout",
     "output_type": "stream",
     "text": [
      "      brewery_id             brewery_name  review_time  review_overall  \\\n",
      "798         1075  Caldera Brewing Company   1212201268             4.5   \n",
      "1559       11715  Destiny Brewing Company   1137124057             4.0   \n",
      "1560       11715  Destiny Brewing Company   1129504403             4.0   \n",
      "1563       11715  Destiny Brewing Company   1137125989             3.5   \n",
      "1564       11715  Destiny Brewing Company   1130936611             3.0   \n",
      "\n",
      "      review_aroma  review_appearance review_profilename  \\\n",
      "798            4.5                  4             grumpy   \n",
      "1559           3.5                  4    blitheringidiot   \n",
      "1560           2.5                  4        NeroFiddled   \n",
      "1563           3.0                  4    blitheringidiot   \n",
      "1564           3.0                  3             Gavage   \n",
      "\n",
      "                            beer_style  review_palate  review_taste  \\\n",
      "798   American Double / Imperial Stout            4.0           4.5   \n",
      "1559           American Pale Ale (APA)            3.5           3.5   \n",
      "1560           American Pale Ale (APA)            4.0           3.5   \n",
      "1563                      American IPA            4.0           4.0   \n",
      "1564                      American IPA            4.0           3.5   \n",
      "\n",
      "           beer_name  beer_abv  beer_beerid  \n",
      "798   Imperial Stout       NaN        42964  \n",
      "1559        Pale Ale       4.5        26420  \n",
      "1560        Pale Ale       4.5        26420  \n",
      "1563             IPA       NaN        26132  \n",
      "1564             IPA       NaN        26132  \n"
     ]
    }
   ],
   "source": [
    "# let's limit things to the top 250\n",
    "n = 250\n",
    "top_n = df.beer_name.value_counts().index[:n]\n",
    "df = df[df.beer_name.isin(top_n)]\n",
    "\n",
    "print df.head()"
   ]
  },
  {
   "cell_type": "code",
   "execution_count": 4,
   "metadata": {
    "collapsed": false
   },
   "outputs": [
    {
     "data": {
      "text/plain": [
       "(355275, 13)"
      ]
     },
     "execution_count": 4,
     "metadata": {},
     "output_type": "execute_result"
    }
   ],
   "source": [
    "df.shape"
   ]
  },
  {
   "cell_type": "code",
   "execution_count": 7,
   "metadata": {
    "collapsed": false
   },
   "outputs": [
    {
     "name": "stdout",
     "output_type": "stream",
     "text": [
      "melting...\n"
     ]
    }
   ],
   "source": [
    "# Create a pivot table with users as columns and the beer names as rows and the values being\n",
    "# the 'review_overall'.  This pivot table is needed to determine the cosine similarity of the\n",
    "# beers using the 'review_overall' values for similarity determination.\n",
    "print \"melting...\"\n",
    "df_wide = pd.pivot_table(df, values=[\"review_overall\"],\n",
    "                         index=[\"beer_name\", \"review_profilename\"],\n",
    "                         aggfunc=np.mean).unstack()"
   ]
  },
  {
   "cell_type": "code",
   "execution_count": 8,
   "metadata": {
    "collapsed": false
   },
   "outputs": [
    {
     "data": {
      "text/html": [
       "<div>\n",
       "<table border=\"1\" class=\"dataframe\">\n",
       "  <thead>\n",
       "    <tr>\n",
       "      <th></th>\n",
       "      <th colspan=\"21\" halign=\"left\">review_overall</th>\n",
       "    </tr>\n",
       "    <tr>\n",
       "      <th>review_profilename</th>\n",
       "      <th>0110x011</th>\n",
       "      <th>02maxima</th>\n",
       "      <th>03SVTCobra</th>\n",
       "      <th>05Harley</th>\n",
       "      <th>0Naught0</th>\n",
       "      <th>0beerguy0</th>\n",
       "      <th>0runkp0s</th>\n",
       "      <th>0tt0</th>\n",
       "      <th>1000Bottles</th>\n",
       "      <th>1001111.0</th>\n",
       "      <th>...</th>\n",
       "      <th>zuker</th>\n",
       "      <th>zulufactor</th>\n",
       "      <th>zumicroom</th>\n",
       "      <th>zwalk8</th>\n",
       "      <th>zwoehr</th>\n",
       "      <th>zymrgy</th>\n",
       "      <th>zymurgy4all</th>\n",
       "      <th>zymurgywhiz</th>\n",
       "      <th>zythus</th>\n",
       "      <th>zyzygy</th>\n",
       "    </tr>\n",
       "    <tr>\n",
       "      <th>beer_name</th>\n",
       "      <th></th>\n",
       "      <th></th>\n",
       "      <th></th>\n",
       "      <th></th>\n",
       "      <th></th>\n",
       "      <th></th>\n",
       "      <th></th>\n",
       "      <th></th>\n",
       "      <th></th>\n",
       "      <th></th>\n",
       "      <th></th>\n",
       "      <th></th>\n",
       "      <th></th>\n",
       "      <th></th>\n",
       "      <th></th>\n",
       "      <th></th>\n",
       "      <th></th>\n",
       "      <th></th>\n",
       "      <th></th>\n",
       "      <th></th>\n",
       "      <th></th>\n",
       "    </tr>\n",
       "  </thead>\n",
       "  <tbody>\n",
       "    <tr>\n",
       "      <th>#9</th>\n",
       "      <td>NaN</td>\n",
       "      <td>NaN</td>\n",
       "      <td>NaN</td>\n",
       "      <td>NaN</td>\n",
       "      <td>NaN</td>\n",
       "      <td>NaN</td>\n",
       "      <td>NaN</td>\n",
       "      <td>NaN</td>\n",
       "      <td>NaN</td>\n",
       "      <td>NaN</td>\n",
       "      <td>...</td>\n",
       "      <td>NaN</td>\n",
       "      <td>NaN</td>\n",
       "      <td>NaN</td>\n",
       "      <td>NaN</td>\n",
       "      <td>NaN</td>\n",
       "      <td>NaN</td>\n",
       "      <td>NaN</td>\n",
       "      <td>NaN</td>\n",
       "      <td>NaN</td>\n",
       "      <td>NaN</td>\n",
       "    </tr>\n",
       "    <tr>\n",
       "      <th>120 Minute IPA</th>\n",
       "      <td>NaN</td>\n",
       "      <td>NaN</td>\n",
       "      <td>NaN</td>\n",
       "      <td>4</td>\n",
       "      <td>NaN</td>\n",
       "      <td>NaN</td>\n",
       "      <td>NaN</td>\n",
       "      <td>1.5</td>\n",
       "      <td>NaN</td>\n",
       "      <td>NaN</td>\n",
       "      <td>...</td>\n",
       "      <td>NaN</td>\n",
       "      <td>NaN</td>\n",
       "      <td>NaN</td>\n",
       "      <td>NaN</td>\n",
       "      <td>NaN</td>\n",
       "      <td>NaN</td>\n",
       "      <td>NaN</td>\n",
       "      <td>NaN</td>\n",
       "      <td>NaN</td>\n",
       "      <td>NaN</td>\n",
       "    </tr>\n",
       "    <tr>\n",
       "      <th>1554 Enlightened Black Ale</th>\n",
       "      <td>NaN</td>\n",
       "      <td>NaN</td>\n",
       "      <td>NaN</td>\n",
       "      <td>NaN</td>\n",
       "      <td>NaN</td>\n",
       "      <td>NaN</td>\n",
       "      <td>NaN</td>\n",
       "      <td>NaN</td>\n",
       "      <td>NaN</td>\n",
       "      <td>NaN</td>\n",
       "      <td>...</td>\n",
       "      <td>NaN</td>\n",
       "      <td>NaN</td>\n",
       "      <td>NaN</td>\n",
       "      <td>NaN</td>\n",
       "      <td>NaN</td>\n",
       "      <td>NaN</td>\n",
       "      <td>NaN</td>\n",
       "      <td>NaN</td>\n",
       "      <td>NaN</td>\n",
       "      <td>NaN</td>\n",
       "    </tr>\n",
       "    <tr>\n",
       "      <th>60 Minute IPA</th>\n",
       "      <td>NaN</td>\n",
       "      <td>NaN</td>\n",
       "      <td>NaN</td>\n",
       "      <td>NaN</td>\n",
       "      <td>NaN</td>\n",
       "      <td>NaN</td>\n",
       "      <td>NaN</td>\n",
       "      <td>NaN</td>\n",
       "      <td>NaN</td>\n",
       "      <td>NaN</td>\n",
       "      <td>...</td>\n",
       "      <td>NaN</td>\n",
       "      <td>NaN</td>\n",
       "      <td>NaN</td>\n",
       "      <td>NaN</td>\n",
       "      <td>NaN</td>\n",
       "      <td>NaN</td>\n",
       "      <td>NaN</td>\n",
       "      <td>NaN</td>\n",
       "      <td>NaN</td>\n",
       "      <td>NaN</td>\n",
       "    </tr>\n",
       "    <tr>\n",
       "      <th>90 Minute IPA</th>\n",
       "      <td>5</td>\n",
       "      <td>NaN</td>\n",
       "      <td>NaN</td>\n",
       "      <td>4</td>\n",
       "      <td>NaN</td>\n",
       "      <td>NaN</td>\n",
       "      <td>NaN</td>\n",
       "      <td>NaN</td>\n",
       "      <td>NaN</td>\n",
       "      <td>NaN</td>\n",
       "      <td>...</td>\n",
       "      <td>NaN</td>\n",
       "      <td>NaN</td>\n",
       "      <td>NaN</td>\n",
       "      <td>NaN</td>\n",
       "      <td>NaN</td>\n",
       "      <td>NaN</td>\n",
       "      <td>NaN</td>\n",
       "      <td>NaN</td>\n",
       "      <td>NaN</td>\n",
       "      <td>NaN</td>\n",
       "    </tr>\n",
       "  </tbody>\n",
       "</table>\n",
       "<p>5 rows × 22140 columns</p>\n",
       "</div>"
      ],
      "text/plain": [
       "                           review_overall                               \\\n",
       "review_profilename               0110x011 02maxima 03SVTCobra 05Harley   \n",
       "beer_name                                                                \n",
       "#9                                    NaN      NaN        NaN      NaN   \n",
       "120 Minute IPA                        NaN      NaN        NaN        4   \n",
       "1554 Enlightened Black Ale            NaN      NaN        NaN      NaN   \n",
       "60 Minute IPA                         NaN      NaN        NaN      NaN   \n",
       "90 Minute IPA                           5      NaN        NaN        4   \n",
       "\n",
       "                                                                         \\\n",
       "review_profilename         0Naught0 0beerguy0 0runkp0s 0tt0 1000Bottles   \n",
       "beer_name                                                                 \n",
       "#9                              NaN       NaN      NaN  NaN         NaN   \n",
       "120 Minute IPA                  NaN       NaN      NaN  1.5         NaN   \n",
       "1554 Enlightened Black Ale      NaN       NaN      NaN  NaN         NaN   \n",
       "60 Minute IPA                   NaN       NaN      NaN  NaN         NaN   \n",
       "90 Minute IPA                   NaN       NaN      NaN  NaN         NaN   \n",
       "\n",
       "                                      ...                                      \\\n",
       "review_profilename         1001111.0  ...   zuker zulufactor zumicroom zwalk8   \n",
       "beer_name                             ...                                       \n",
       "#9                               NaN  ...     NaN        NaN       NaN    NaN   \n",
       "120 Minute IPA                   NaN  ...     NaN        NaN       NaN    NaN   \n",
       "1554 Enlightened Black Ale       NaN  ...     NaN        NaN       NaN    NaN   \n",
       "60 Minute IPA                    NaN  ...     NaN        NaN       NaN    NaN   \n",
       "90 Minute IPA                    NaN  ...     NaN        NaN       NaN    NaN   \n",
       "\n",
       "                                                                                \n",
       "review_profilename         zwoehr zymrgy zymurgy4all zymurgywhiz zythus zyzygy  \n",
       "beer_name                                                                       \n",
       "#9                            NaN    NaN         NaN         NaN    NaN    NaN  \n",
       "120 Minute IPA                NaN    NaN         NaN         NaN    NaN    NaN  \n",
       "1554 Enlightened Black Ale    NaN    NaN         NaN         NaN    NaN    NaN  \n",
       "60 Minute IPA                 NaN    NaN         NaN         NaN    NaN    NaN  \n",
       "90 Minute IPA                 NaN    NaN         NaN         NaN    NaN    NaN  \n",
       "\n",
       "[5 rows x 22140 columns]"
      ]
     },
     "execution_count": 8,
     "metadata": {},
     "output_type": "execute_result"
    }
   ],
   "source": [
    "df_wide.head()"
   ]
  },
  {
   "cell_type": "code",
   "execution_count": 9,
   "metadata": {
    "collapsed": true
   },
   "outputs": [],
   "source": [
    "# any cells that are missing data (i.e. a user didn't buy a particular product)\n",
    "# we're going to set to 0\n",
    "df_wide = df_wide.fillna(0)"
   ]
  },
  {
   "cell_type": "code",
   "execution_count": 15,
   "metadata": {
    "collapsed": false
   },
   "outputs": [
    {
     "name": "stdout",
     "output_type": "stream",
     "text": [
      "calculating similarity\n"
     ]
    },
    {
     "data": {
      "text/plain": [
       "['Samuel Adams Boston Lager',\n",
       " 'Sierra Nevada Celebration Ale',\n",
       " '90 Minute IPA',\n",
       " 'Arrogant Bastard Ale',\n",
       " 'Stone IPA (India Pale Ale)',\n",
       " '60 Minute IPA',\n",
       " 'HopDevil Ale',\n",
       " 'Stone Ruination IPA',\n",
       " 'Sierra Nevada Bigfoot Barleywine Style Ale',\n",
       " 'Storm King Stout']"
      ]
     },
     "execution_count": 15,
     "metadata": {},
     "output_type": "execute_result"
    }
   ],
   "source": [
    "# this is the key. we're going to use cosine_similarity from scikit-learn\n",
    "# to compute the distance between all beers\n",
    "print \"calculating similarity\"\n",
    "dists = cosine_similarity(df_wide)\n",
    "\n",
    "# stuff the distance matrix into a dataframe so it's easier to operate on\n",
    "dists = pd.DataFrame(dists, columns=df_wide.index)\n",
    "\n",
    "# give the indicies (equivalent to rownames in R) the name of the beer\n",
    "dists.index = dists.columns\n",
    "\n",
    "def get_similar(beers,n=None):\n",
    "    \"\"\"\n",
    "    get_sims takes a distance matrix an beer\n",
    "    and will calculate the 10 most similar products to product based on the\n",
    "    distance matrix\n",
    "\n",
    "    dists - a distance matrix\n",
    "    beers - list of beers that the user likes\n",
    "    \"\"\"\n",
    "    beers = [beer for beer in beers if beer in dists.columns]\n",
    "    beers_summed = dists[beers].apply(lambda row: np.sum(row), axis=1)\n",
    "    beers_summed = beers_summed.sort_values(ascending=False)\n",
    "    ranked_beers = beers_summed.index[beers_summed.index.isin(beers)==False]\n",
    "    ranked_beers = ranked_beers.tolist()\n",
    "    if n is None:\n",
    "        return ranked_beers\n",
    "    else:\n",
    "        return ranked_beers[:n]\n",
    "    \n",
    "#    p = dists[products].apply(lambda row: np.sum(row), axis=1)\n",
    "#    p = p.order(ascending=False)\n",
    "#    if n is None:\n",
    "#        return p.index[p.index.isin(products)==False]\n",
    "#    else:\n",
    "#        return p.index[p.index.isin(products)==False][:n]\n",
    "\n",
    "get_similar([\"Sierra Nevada Pale Ale\", \"120 Minute IPA\", \"Coors Light\"],10)"
   ]
  },
  {
   "cell_type": "code",
   "execution_count": 28,
   "metadata": {
    "collapsed": true
   },
   "outputs": [],
   "source": [
    "dists.to_pickle('beer.pkl') "
   ]
  }
 ],
 "metadata": {
  "kernelspec": {
   "display_name": "Python 2",
   "language": "python",
   "name": "python2"
  },
  "language_info": {
   "codemirror_mode": {
    "name": "ipython",
    "version": 2
   },
   "file_extension": ".py",
   "mimetype": "text/x-python",
   "name": "python",
   "nbconvert_exporter": "python",
   "pygments_lexer": "ipython2",
   "version": "2.7.11"
  }
 },
 "nbformat": 4,
 "nbformat_minor": 0
}
